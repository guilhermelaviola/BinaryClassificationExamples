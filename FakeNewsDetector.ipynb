{
  "nbformat": 4,
  "nbformat_minor": 0,
  "metadata": {
    "colab": {
      "provenance": [],
      "authorship_tag": "ABX9TyM0gERkg7POAlG0Wf34Wtol",
      "include_colab_link": true
    },
    "kernelspec": {
      "name": "python3",
      "display_name": "Python 3"
    },
    "language_info": {
      "name": "python"
    }
  },
  "cells": [
    {
      "cell_type": "markdown",
      "metadata": {
        "id": "view-in-github",
        "colab_type": "text"
      },
      "source": [
        "<a href=\"https://colab.research.google.com/github/guilhermelaviola/FakeNewsDetector/blob/main/FakeNewsDetector.ipynb\" target=\"_parent\"><img src=\"https://colab.research.google.com/assets/colab-badge.svg\" alt=\"Open In Colab\"/></a>"
      ]
    },
    {
      "cell_type": "code",
      "execution_count": 7,
      "metadata": {
        "colab": {
          "base_uri": "https://localhost:8080/"
        },
        "id": "qIpOEm8QKi_j",
        "outputId": "de8e1074-cd23-468f-fd5e-ec7210a2c5b0"
      },
      "outputs": [
        {
          "output_type": "stream",
          "name": "stdout",
          "text": [
            "   Unnamed: 0                                              title  \\\n",
            "0        8476                       You Can Smell Hillary’s Fear   \n",
            "1       10294  Watch The Exact Moment Paul Ryan Committed Pol...   \n",
            "2        3608        Kerry to go to Paris in gesture of sympathy   \n",
            "3       10142  Bernie supporters on Twitter erupt in anger ag...   \n",
            "4         875   The Battle of New York: Why This Primary Matters   \n",
            "\n",
            "                                                text label  \n",
            "0  Daniel Greenfield, a Shillman Journalism Fello...  FAKE  \n",
            "1  Google Pinterest Digg Linkedin Reddit Stumbleu...  FAKE  \n",
            "2  U.S. Secretary of State John F. Kerry said Mon...  REAL  \n",
            "3  — Kaydee King (@KaydeeKing) November 9, 2016 T...  FAKE  \n",
            "4  It's primary day in New York and front-runners...  REAL  \n"
          ]
        }
      ],
      "source": [
        "# Importing all the necessary libraries\n",
        "#import csv\n",
        "import pandas as pd\n",
        "import numpy as np\n",
        "from sklearn.feature_extraction.text import CountVectorizer\n",
        "from sklearn.model_selection import train_test_split\n",
        "from sklearn.naive_bayes import MultinomialNB\n",
        "\n",
        "data = pd.read_csv('fake_or_real_news.csv')\n",
        "print(data.head())"
      ]
    },
    {
      "cell_type": "code",
      "source": [
        "# Using the title column as the feature we need ro train a Machine Learning\n",
        "3 # model and the label column as the values we need to predict\n",
        "x = np.array(data['title'])\n",
        "y = np.array(data['label'])\n",
        "\n",
        "cv = CountVectorizer()\n",
        "x = cv.fit_transform(x)"
      ],
      "metadata": {
        "id": "4HopgL6GYQ1o"
      },
      "execution_count": 12,
      "outputs": []
    },
    {
      "cell_type": "code",
      "source": [
        "# Separating the dataset into training and testing sets\n",
        "xtrain, xtest, ytrain, ytest = train_test_split(x, y, test_size = 0.2, random_state = 42)\n",
        "# Using the Multinomial Naive Bayes algorithm to train the model\n",
        "model = MultinomialNB()\n",
        "model.fit(xtrain, ytrain)\n",
        "print(model.score(xtest, ytest))"
      ],
      "metadata": {
        "id": "PqneYBF9NuZ6",
        "outputId": "ebdd8fd5-1c59-42dc-aaa0-0ec2e6ec091f",
        "colab": {
          "base_uri": "https://localhost:8080/"
        }
      },
      "execution_count": 13,
      "outputs": [
        {
          "output_type": "stream",
          "name": "stdout",
          "text": [
            "0.8074191002367798\n"
          ]
        }
      ]
    },
    {
      "cell_type": "code",
      "source": [
        "# Testing the model.\n",
        "# In order to test the model, first we write down the title of any news\n",
        "# item found on Google News to see if the model can predict whether the news\n",
        "# is real or not.\n",
        "news_headline = 'CA Exams 2021: Supreme Court asks ICAI to extend opt-out option for July exams, final order tomorrow'\n",
        "data = cv.transform([news_headline]).toarray()\n",
        "print(model.predict(data))"
      ],
      "metadata": {
        "id": "_SWMbOCpPhKi",
        "outputId": "d8af3080-004b-48b8-b790-1fa02c8d1ec8",
        "colab": {
          "base_uri": "https://localhost:8080/"
        }
      },
      "execution_count": 16,
      "outputs": [
        {
          "output_type": "stream",
          "name": "stdout",
          "text": [
            "['REAL']\n"
          ]
        }
      ]
    },
    {
      "cell_type": "code",
      "source": [
        "# Making up random fake news headline to see if the model model can\n",
        "# predict whether the news is real or not.\n",
        "news_headline = 'Manchester United are the champions of UEFA Champions League 2022/23!'\n",
        "data = cv.transform([news_headline]).toarray()\n",
        "print(model.predict(data))"
      ],
      "metadata": {
        "id": "NIrT2Wj9QngG",
        "outputId": "03b52639-fd8f-4871-9288-9ffcb5f565a8",
        "colab": {
          "base_uri": "https://localhost:8080/"
        }
      },
      "execution_count": 17,
      "outputs": [
        {
          "output_type": "stream",
          "name": "stdout",
          "text": [
            "['FAKE']\n"
          ]
        }
      ]
    },
    {
      "cell_type": "code",
      "source": [],
      "metadata": {
        "id": "5m5uxRukRLtE"
      },
      "execution_count": null,
      "outputs": []
    }
  ]
}