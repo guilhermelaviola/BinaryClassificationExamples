{
  "nbformat": 4,
  "nbformat_minor": 0,
  "metadata": {
    "colab": {
      "provenance": [],
      "authorship_tag": "ABX9TyOgp8lhf+FkhS1CBpZoXPQ9",
      "include_colab_link": true
    },
    "kernelspec": {
      "name": "python3",
      "display_name": "Python 3"
    },
    "language_info": {
      "name": "python"
    }
  },
  "cells": [
    {
      "cell_type": "markdown",
      "metadata": {
        "id": "view-in-github",
        "colab_type": "text"
      },
      "source": [
        "<a href=\"https://colab.research.google.com/github/guilhermelaviola/FakeNewsDetector/blob/main/FakeNewsDetector.ipynb\" target=\"_parent\"><img src=\"https://colab.research.google.com/assets/colab-badge.svg\" alt=\"Open In Colab\"/></a>"
      ]
    },
    {
      "cell_type": "code",
      "execution_count": 12,
      "metadata": {
        "colab": {
          "base_uri": "https://localhost:8080/"
        },
        "id": "qIpOEm8QKi_j",
        "outputId": "0d9dccfb-5e07-42ac-fe5a-ec41607f8ef4"
      },
      "outputs": [
        {
          "output_type": "stream",
          "name": "stdout",
          "text": [
            "                                                   0\n",
            "0                                  ,title,text,label\n",
            "1  8476,You Can Smell Hillary’s Fear,\"Daniel Gree...\n",
            "2  In the final stretch of the election, Hillary ...\n",
            "3  The word “unprecedented” has been thrown aroun...\n",
            "4  But that’s exactly what Hillary and her people...\n"
          ]
        }
      ],
      "source": [
        "# Importing all the necessary libraries\n",
        "import csv\n",
        "import pandas as pd\n",
        "import numpy as np\n",
        "from sklearn.feature_extraction.text import CountVectorizer\n",
        "from sklearn.model_selection import train_test_split\n",
        "from sklearn.naive_bayes import MultinomialNB\n",
        "\n",
        "data = pd.read_csv('fake_or_real_news.csv', header = None, delimiter=\"\\t\", quoting=csv.QUOTE_NONE, encoding='utf-8')\n",
        "print(data.head())"
      ]
    }
  ]
}